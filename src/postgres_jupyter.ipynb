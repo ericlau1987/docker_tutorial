{
 "cells": [
  {
   "cell_type": "code",
   "execution_count": 1,
   "id": "426a4581",
   "metadata": {},
   "outputs": [],
   "source": [
    "import pandas as pd\n",
    "import psycopg2 as pg2\n",
    "import psycopg2.extras as pgex"
   ]
  },
  {
   "cell_type": "code",
   "execution_count": 7,
   "id": "2da9e2c4-13c2-49b2-ba18-33cae19fb925",
   "metadata": {},
   "outputs": [],
   "source": [
    "con = pg2.connect(host='this_postgres', user='postgres', database='postgres')\n",
    "cur = con.cursor(cursor_factory=pgex.RealDictCursor)"
   ]
  },
  {
   "cell_type": "code",
   "execution_count": 12,
   "id": "2329950a",
   "metadata": {},
   "outputs": [],
   "source": [
    "cur.execute(\"\"\"\n",
    "        BEGIN;\n",
    "        CREATE TABLE from_jupyter_test (\n",
    "        _id INTEGER,\n",
    "        name TEXT,\n",
    "        list DOUBLE PRECISION[],\n",
    "        vector BYTEA\n",
    "        );\n",
    "        COMMIT;\n",
    "        \"\"\")"
   ]
  },
  {
   "cell_type": "code",
   "execution_count": 18,
   "id": "f1460111",
   "metadata": {},
   "outputs": [],
   "source": [
    "cur.execute(\"\"\"\n",
    "        BEGIN;\n",
    "        INSERT INTO from_jupyter_test VALUES (1, 'spam', '{1,2,3,4,5}');\n",
    "        INSERT INTO from_jupyter_test VALUES (2, 'eggs', '{1,4,9,16,25}');\n",
    "        COMMIT;\n",
    "        \"\"\")"
   ]
  },
  {
   "cell_type": "code",
   "execution_count": 8,
   "id": "db4c1b50",
   "metadata": {},
   "outputs": [],
   "source": [
    "cur.execute(\"\"\"\n",
    "        SELECT * FROM from_jupyter_test;\"\"\")"
   ]
  },
  {
   "cell_type": "code",
   "execution_count": 9,
   "id": "da4c4945",
   "metadata": {},
   "outputs": [
    {
     "data": {
      "text/html": [
       "<div>\n",
       "<style scoped>\n",
       "    .dataframe tbody tr th:only-of-type {\n",
       "        vertical-align: middle;\n",
       "    }\n",
       "\n",
       "    .dataframe tbody tr th {\n",
       "        vertical-align: top;\n",
       "    }\n",
       "\n",
       "    .dataframe thead th {\n",
       "        text-align: right;\n",
       "    }\n",
       "</style>\n",
       "<table border=\"1\" class=\"dataframe\">\n",
       "  <thead>\n",
       "    <tr style=\"text-align: right;\">\n",
       "      <th></th>\n",
       "      <th>_id</th>\n",
       "      <th>name</th>\n",
       "      <th>list</th>\n",
       "      <th>vector</th>\n",
       "    </tr>\n",
       "  </thead>\n",
       "  <tbody>\n",
       "    <tr>\n",
       "      <th>0</th>\n",
       "      <td>1</td>\n",
       "      <td>spam</td>\n",
       "      <td>[1.0, 2.0, 3.0, 4.0, 5.0]</td>\n",
       "      <td>None</td>\n",
       "    </tr>\n",
       "    <tr>\n",
       "      <th>1</th>\n",
       "      <td>2</td>\n",
       "      <td>eggs</td>\n",
       "      <td>[1.0, 4.0, 9.0, 16.0, 25.0]</td>\n",
       "      <td>None</td>\n",
       "    </tr>\n",
       "    <tr>\n",
       "      <th>2</th>\n",
       "      <td>1</td>\n",
       "      <td>spam</td>\n",
       "      <td>[1.0, 2.0, 3.0, 4.0, 5.0]</td>\n",
       "      <td>None</td>\n",
       "    </tr>\n",
       "    <tr>\n",
       "      <th>3</th>\n",
       "      <td>2</td>\n",
       "      <td>eggs</td>\n",
       "      <td>[1.0, 4.0, 9.0, 16.0, 25.0]</td>\n",
       "      <td>None</td>\n",
       "    </tr>\n",
       "  </tbody>\n",
       "</table>\n",
       "</div>"
      ],
      "text/plain": [
       "   _id  name                         list vector\n",
       "0    1  spam    [1.0, 2.0, 3.0, 4.0, 5.0]   None\n",
       "1    2  eggs  [1.0, 4.0, 9.0, 16.0, 25.0]   None\n",
       "2    1  spam    [1.0, 2.0, 3.0, 4.0, 5.0]   None\n",
       "3    2  eggs  [1.0, 4.0, 9.0, 16.0, 25.0]   None"
      ]
     },
     "execution_count": 9,
     "metadata": {},
     "output_type": "execute_result"
    }
   ],
   "source": [
    "pd.DataFrame(cur.fetchall())"
   ]
  },
  {
   "cell_type": "code",
   "execution_count": 10,
   "id": "da4584f8",
   "metadata": {},
   "outputs": [],
   "source": [
    "con.close()"
   ]
  }
 ],
 "metadata": {
  "kernelspec": {
   "display_name": "Python 3 (ipykernel)",
   "language": "python",
   "name": "python3"
  },
  "language_info": {
   "codemirror_mode": {
    "name": "ipython",
    "version": 3
   },
   "file_extension": ".py",
   "mimetype": "text/x-python",
   "name": "python",
   "nbconvert_exporter": "python",
   "pygments_lexer": "ipython3",
   "version": "3.9.7"
  }
 },
 "nbformat": 4,
 "nbformat_minor": 5
}
