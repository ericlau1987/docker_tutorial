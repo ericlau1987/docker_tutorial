{
 "cells": [
  {
   "cell_type": "code",
   "execution_count": 10,
   "id": "af441396",
   "metadata": {},
   "outputs": [
    {
     "name": "stdout",
     "output_type": "stream",
     "text": [
      "ERROR: unknown command \"sqlalchemy\"\n"
     ]
    }
   ],
   "source": [
    "!pip sqlalchemy"
   ]
  },
  {
   "cell_type": "code",
   "execution_count": 1,
   "id": "426a4581",
   "metadata": {},
   "outputs": [],
   "source": [
    "import pandas as pd\n",
    "import psycopg2 as pg2\n",
    "import psycopg2.extras as pgex"
   ]
  },
  {
   "cell_type": "code",
   "execution_count": 11,
   "id": "2da9e2c4-13c2-49b2-ba18-33cae19fb925",
   "metadata": {},
   "outputs": [],
   "source": [
    "con = pg2.connect(host='this_postgres', user='postgres', database='postgres')\n",
    "# cur = con.cursor(cursor_factory=pgex.RealDictCursor)"
   ]
  },
  {
   "cell_type": "code",
   "execution_count": 3,
   "id": "2329950a",
   "metadata": {},
   "outputs": [
    {
     "ename": "DuplicateTable",
     "evalue": "relation \"from_jupyter_test\" already exists\n",
     "output_type": "error",
     "traceback": [
      "\u001b[0;31m---------------------------------------------------------------------------\u001b[0m",
      "\u001b[0;31mDuplicateTable\u001b[0m                            Traceback (most recent call last)",
      "\u001b[1;32m/workspace/src/postgres_jupyter.ipynb Cell 3'\u001b[0m in \u001b[0;36m<module>\u001b[0;34m\u001b[0m\n\u001b[0;32m----> <a href='vscode-notebook-cell://dev-container%2B2f55736572732f6c6975796966752f6769746875625f70726f6a656374732f646f636b65725f7475746f7269616c/workspace/src/postgres_jupyter.ipynb#ch0000002vscode-remote?line=0'>1</a>\u001b[0m cur\u001b[39m.\u001b[39;49mexecute(\u001b[39m\"\"\"\u001b[39;49m\n\u001b[1;32m      <a href='vscode-notebook-cell://dev-container%2B2f55736572732f6c6975796966752f6769746875625f70726f6a656374732f646f636b65725f7475746f7269616c/workspace/src/postgres_jupyter.ipynb#ch0000002vscode-remote?line=1'>2</a>\u001b[0m \u001b[39m        BEGIN;\u001b[39;49m\n\u001b[1;32m      <a href='vscode-notebook-cell://dev-container%2B2f55736572732f6c6975796966752f6769746875625f70726f6a656374732f646f636b65725f7475746f7269616c/workspace/src/postgres_jupyter.ipynb#ch0000002vscode-remote?line=2'>3</a>\u001b[0m \u001b[39m        CREATE TABLE from_jupyter_test (\u001b[39;49m\n\u001b[1;32m      <a href='vscode-notebook-cell://dev-container%2B2f55736572732f6c6975796966752f6769746875625f70726f6a656374732f646f636b65725f7475746f7269616c/workspace/src/postgres_jupyter.ipynb#ch0000002vscode-remote?line=3'>4</a>\u001b[0m \u001b[39m        _id INTEGER,\u001b[39;49m\n\u001b[1;32m      <a href='vscode-notebook-cell://dev-container%2B2f55736572732f6c6975796966752f6769746875625f70726f6a656374732f646f636b65725f7475746f7269616c/workspace/src/postgres_jupyter.ipynb#ch0000002vscode-remote?line=4'>5</a>\u001b[0m \u001b[39m        name TEXT,\u001b[39;49m\n\u001b[1;32m      <a href='vscode-notebook-cell://dev-container%2B2f55736572732f6c6975796966752f6769746875625f70726f6a656374732f646f636b65725f7475746f7269616c/workspace/src/postgres_jupyter.ipynb#ch0000002vscode-remote?line=5'>6</a>\u001b[0m \u001b[39m        list DOUBLE PRECISION[],\u001b[39;49m\n\u001b[1;32m      <a href='vscode-notebook-cell://dev-container%2B2f55736572732f6c6975796966752f6769746875625f70726f6a656374732f646f636b65725f7475746f7269616c/workspace/src/postgres_jupyter.ipynb#ch0000002vscode-remote?line=6'>7</a>\u001b[0m \u001b[39m        vector BYTEA\u001b[39;49m\n\u001b[1;32m      <a href='vscode-notebook-cell://dev-container%2B2f55736572732f6c6975796966752f6769746875625f70726f6a656374732f646f636b65725f7475746f7269616c/workspace/src/postgres_jupyter.ipynb#ch0000002vscode-remote?line=7'>8</a>\u001b[0m \u001b[39m        );\u001b[39;49m\n\u001b[1;32m      <a href='vscode-notebook-cell://dev-container%2B2f55736572732f6c6975796966752f6769746875625f70726f6a656374732f646f636b65725f7475746f7269616c/workspace/src/postgres_jupyter.ipynb#ch0000002vscode-remote?line=8'>9</a>\u001b[0m \u001b[39m        COMMIT;\u001b[39;49m\n\u001b[1;32m     <a href='vscode-notebook-cell://dev-container%2B2f55736572732f6c6975796966752f6769746875625f70726f6a656374732f646f636b65725f7475746f7269616c/workspace/src/postgres_jupyter.ipynb#ch0000002vscode-remote?line=9'>10</a>\u001b[0m \u001b[39m        \u001b[39;49m\u001b[39m\"\"\"\u001b[39;49m)\n",
      "File \u001b[0;32m/opt/conda/lib/python3.9/site-packages/psycopg2/extras.py:236\u001b[0m, in \u001b[0;36mRealDictCursor.execute\u001b[0;34m(self, query, vars)\u001b[0m\n\u001b[1;32m    <a href='file:///opt/conda/lib/python3.9/site-packages/psycopg2/extras.py?line=233'>234</a>\u001b[0m \u001b[39mself\u001b[39m\u001b[39m.\u001b[39mcolumn_mapping \u001b[39m=\u001b[39m []\n\u001b[1;32m    <a href='file:///opt/conda/lib/python3.9/site-packages/psycopg2/extras.py?line=234'>235</a>\u001b[0m \u001b[39mself\u001b[39m\u001b[39m.\u001b[39m_query_executed \u001b[39m=\u001b[39m \u001b[39mTrue\u001b[39;00m\n\u001b[0;32m--> <a href='file:///opt/conda/lib/python3.9/site-packages/psycopg2/extras.py?line=235'>236</a>\u001b[0m \u001b[39mreturn\u001b[39;00m \u001b[39msuper\u001b[39;49m()\u001b[39m.\u001b[39;49mexecute(query, \u001b[39mvars\u001b[39;49m)\n",
      "\u001b[0;31mDuplicateTable\u001b[0m: relation \"from_jupyter_test\" already exists\n"
     ]
    }
   ],
   "source": [
    "cur.execute(\"\"\"\n",
    "        BEGIN;\n",
    "        CREATE TABLE from_jupyter_test (\n",
    "        _id INTEGER,\n",
    "        name TEXT,\n",
    "        list DOUBLE PRECISION[],\n",
    "        vector BYTEA\n",
    "        );\n",
    "        COMMIT;\n",
    "        \"\"\")"
   ]
  },
  {
   "cell_type": "code",
   "execution_count": 18,
   "id": "f1460111",
   "metadata": {},
   "outputs": [],
   "source": [
    "cur.execute(\"\"\"\n",
    "        BEGIN;\n",
    "        INSERT INTO from_jupyter_test VALUES (1, 'spam', '{1,2,3,4,5}');\n",
    "        INSERT INTO from_jupyter_test VALUES (2, 'eggs', '{1,4,9,16,25}');\n",
    "        COMMIT;\n",
    "        \"\"\")"
   ]
  },
  {
   "cell_type": "code",
   "execution_count": 7,
   "id": "db4c1b50",
   "metadata": {},
   "outputs": [],
   "source": [
    "cur.execute(\"\"\"\n",
    "        SELECT * FROM from_jupyter_test;\"\"\")"
   ]
  },
  {
   "cell_type": "code",
   "execution_count": 8,
   "id": "da4c4945",
   "metadata": {},
   "outputs": [
    {
     "data": {
      "text/html": [
       "<div>\n",
       "<style scoped>\n",
       "    .dataframe tbody tr th:only-of-type {\n",
       "        vertical-align: middle;\n",
       "    }\n",
       "\n",
       "    .dataframe tbody tr th {\n",
       "        vertical-align: top;\n",
       "    }\n",
       "\n",
       "    .dataframe thead th {\n",
       "        text-align: right;\n",
       "    }\n",
       "</style>\n",
       "<table border=\"1\" class=\"dataframe\">\n",
       "  <thead>\n",
       "    <tr style=\"text-align: right;\">\n",
       "      <th></th>\n",
       "      <th>_id</th>\n",
       "      <th>name</th>\n",
       "      <th>list</th>\n",
       "      <th>vector</th>\n",
       "    </tr>\n",
       "  </thead>\n",
       "  <tbody>\n",
       "    <tr>\n",
       "      <th>0</th>\n",
       "      <td>1</td>\n",
       "      <td>spam</td>\n",
       "      <td>[1.0, 2.0, 3.0, 4.0, 5.0]</td>\n",
       "      <td>None</td>\n",
       "    </tr>\n",
       "    <tr>\n",
       "      <th>1</th>\n",
       "      <td>2</td>\n",
       "      <td>eggs</td>\n",
       "      <td>[1.0, 4.0, 9.0, 16.0, 25.0]</td>\n",
       "      <td>None</td>\n",
       "    </tr>\n",
       "    <tr>\n",
       "      <th>2</th>\n",
       "      <td>1</td>\n",
       "      <td>spam</td>\n",
       "      <td>[1.0, 2.0, 3.0, 4.0, 5.0]</td>\n",
       "      <td>None</td>\n",
       "    </tr>\n",
       "    <tr>\n",
       "      <th>3</th>\n",
       "      <td>2</td>\n",
       "      <td>eggs</td>\n",
       "      <td>[1.0, 4.0, 9.0, 16.0, 25.0]</td>\n",
       "      <td>None</td>\n",
       "    </tr>\n",
       "  </tbody>\n",
       "</table>\n",
       "</div>"
      ],
      "text/plain": [
       "   _id  name                         list vector\n",
       "0    1  spam    [1.0, 2.0, 3.0, 4.0, 5.0]   None\n",
       "1    2  eggs  [1.0, 4.0, 9.0, 16.0, 25.0]   None\n",
       "2    1  spam    [1.0, 2.0, 3.0, 4.0, 5.0]   None\n",
       "3    2  eggs  [1.0, 4.0, 9.0, 16.0, 25.0]   None"
      ]
     },
     "execution_count": 8,
     "metadata": {},
     "output_type": "execute_result"
    }
   ],
   "source": [
    "pd.DataFrame(cur.fetchall())"
   ]
  },
  {
   "cell_type": "code",
   "execution_count": 10,
   "id": "da4584f8",
   "metadata": {},
   "outputs": [],
   "source": [
    "con.close()"
   ]
  },
  {
   "cell_type": "code",
   "execution_count": 12,
   "id": "af854deb",
   "metadata": {},
   "outputs": [
    {
     "name": "stderr",
     "output_type": "stream",
     "text": [
      "/opt/conda/lib/python3.9/site-packages/pandas/io/sql.py:758: UserWarning: pandas only support SQLAlchemy connectable(engine/connection) ordatabase string URI or sqlite3 DBAPI2 connectionother DBAPI2 objects are not tested, please consider using SQLAlchemy\n",
      "  warnings.warn(\n"
     ]
    },
    {
     "data": {
      "text/html": [
       "<div>\n",
       "<style scoped>\n",
       "    .dataframe tbody tr th:only-of-type {\n",
       "        vertical-align: middle;\n",
       "    }\n",
       "\n",
       "    .dataframe tbody tr th {\n",
       "        vertical-align: top;\n",
       "    }\n",
       "\n",
       "    .dataframe thead th {\n",
       "        text-align: right;\n",
       "    }\n",
       "</style>\n",
       "<table border=\"1\" class=\"dataframe\">\n",
       "  <thead>\n",
       "    <tr style=\"text-align: right;\">\n",
       "      <th></th>\n",
       "      <th>_id</th>\n",
       "      <th>name</th>\n",
       "      <th>list</th>\n",
       "      <th>vector</th>\n",
       "    </tr>\n",
       "  </thead>\n",
       "  <tbody>\n",
       "    <tr>\n",
       "      <th>0</th>\n",
       "      <td>1</td>\n",
       "      <td>spam</td>\n",
       "      <td>[1.0, 2.0, 3.0, 4.0, 5.0]</td>\n",
       "      <td>None</td>\n",
       "    </tr>\n",
       "    <tr>\n",
       "      <th>1</th>\n",
       "      <td>2</td>\n",
       "      <td>eggs</td>\n",
       "      <td>[1.0, 4.0, 9.0, 16.0, 25.0]</td>\n",
       "      <td>None</td>\n",
       "    </tr>\n",
       "    <tr>\n",
       "      <th>2</th>\n",
       "      <td>1</td>\n",
       "      <td>spam</td>\n",
       "      <td>[1.0, 2.0, 3.0, 4.0, 5.0]</td>\n",
       "      <td>None</td>\n",
       "    </tr>\n",
       "    <tr>\n",
       "      <th>3</th>\n",
       "      <td>2</td>\n",
       "      <td>eggs</td>\n",
       "      <td>[1.0, 4.0, 9.0, 16.0, 25.0]</td>\n",
       "      <td>None</td>\n",
       "    </tr>\n",
       "  </tbody>\n",
       "</table>\n",
       "</div>"
      ],
      "text/plain": [
       "   _id  name                         list vector\n",
       "0    1  spam    [1.0, 2.0, 3.0, 4.0, 5.0]   None\n",
       "1    2  eggs  [1.0, 4.0, 9.0, 16.0, 25.0]   None\n",
       "2    1  spam    [1.0, 2.0, 3.0, 4.0, 5.0]   None\n",
       "3    2  eggs  [1.0, 4.0, 9.0, 16.0, 25.0]   None"
      ]
     },
     "execution_count": 12,
     "metadata": {},
     "output_type": "execute_result"
    }
   ],
   "source": [
    "pd.read_sql_query(\"\"\"\n",
    "SELECT * FROM from_jupyter_test\n",
    "\"\"\", con=con)"
   ]
  }
 ],
 "metadata": {
  "kernelspec": {
   "display_name": "Python 3 (ipykernel)",
   "language": "python",
   "name": "python3"
  },
  "language_info": {
   "codemirror_mode": {
    "name": "ipython",
    "version": 3
   },
   "file_extension": ".py",
   "mimetype": "text/x-python",
   "name": "python",
   "nbconvert_exporter": "python",
   "pygments_lexer": "ipython3",
   "version": "3.9.7"
  }
 },
 "nbformat": 4,
 "nbformat_minor": 5
}
